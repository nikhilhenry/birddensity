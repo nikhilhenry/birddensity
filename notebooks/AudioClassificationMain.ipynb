{
 "cells": [
  {
   "cell_type": "markdown",
   "metadata": {},
   "source": [
    "# Audio Classifier for Capuchin Bird Calls"
   ]
  },
  {
   "cell_type": "code",
   "execution_count": 1,
   "metadata": {},
   "outputs": [],
   "source": [
    "import torch\n",
    "from pathlib import Path\n",
    "from matplotlib import pyplot as plt\n",
    "import seaborn as sns\n",
    "import torchaudio\n",
    "import torchvision\n",
    "from torch.utils.data import Dataset, DataLoader\n",
    "import numpy as np\n",
    "from torchinfo import summary\n",
    "from tqdm.auto import tqdm\n",
    "from torchmetrics.classification import BinaryConfusionMatrix"
   ]
  },
  {
   "cell_type": "code",
   "execution_count": 2,
   "metadata": {},
   "outputs": [
    {
     "data": {
      "text/plain": [
       "('2.3.1', '2.3.1', '0.18.1')"
      ]
     },
     "execution_count": 2,
     "metadata": {},
     "output_type": "execute_result"
    }
   ],
   "source": [
    "sns.set_theme()\n",
    "torch.__version__, torchaudio.__version__, torchvision.__version__"
   ]
  },
  {
   "cell_type": "code",
   "execution_count": 3,
   "metadata": {},
   "outputs": [
    {
     "name": "stdout",
     "output_type": "stream",
     "text": [
      "Using device: cuda\n"
     ]
    }
   ],
   "source": [
    "# Setup device-agnostic code\n",
    "if torch.cuda.is_available():\n",
    "    device = \"cuda\"  # NVIDIA GPU\n",
    "    torch.cuda.empty_cache()\n",
    "elif torch.backends.mps.is_available():\n",
    "    device = \"mps\"  # Apple GPU\n",
    "else:\n",
    "    device = \"cpu\"  # Defaults to CPU if NVIDIA GPU/Apple GPU aren't available\n",
    "\n",
    "print(f\"Using device: {device}\")"
   ]
  },
  {
   "cell_type": "code",
   "execution_count": 4,
   "metadata": {},
   "outputs": [],
   "source": [
    "torch.manual_seed(42)\n",
    "torch.cuda.manual_seed(42)"
   ]
  },
  {
   "cell_type": "code",
   "execution_count": 5,
   "metadata": {},
   "outputs": [],
   "source": [
    "WORKERS = 0"
   ]
  },
  {
   "cell_type": "markdown",
   "metadata": {},
   "source": [
    "## Directories and File Paths"
   ]
  },
  {
   "cell_type": "code",
   "execution_count": 6,
   "metadata": {},
   "outputs": [
    {
     "data": {
      "text/plain": [
       "(True, True)"
      ]
     },
     "execution_count": 6,
     "metadata": {},
     "output_type": "execute_result"
    }
   ],
   "source": [
    "DATA_FOLDER = Path(\"../data\")\n",
    "CAPUCHIN_CLIPS_FOLDER = DATA_FOLDER / \"Parsed_Capuchinbird_Clips\"\n",
    "NOT_CAPUCHIN_CLIPS_FOLDER = DATA_FOLDER / \"Parsed_Not_Capuchinbird_Clips\"\n",
    "CAPUCHIN_CLIPS_FOLDER.exists(), NOT_CAPUCHIN_CLIPS_FOLDER.exists()"
   ]
  },
  {
   "cell_type": "markdown",
   "metadata": {},
   "source": [
    "### Finding average clip length after resampling"
   ]
  },
  {
   "cell_type": "code",
   "execution_count": 7,
   "metadata": {},
   "outputs": [
    {
     "name": "stdout",
     "output_type": "stream",
     "text": [
      "Maximum num of frames in capuchin clip 80000\n",
      "Average num of frames in capuchin clip 54156.6866359447\n",
      "Minimum num of frames in capuchin clip 32000\n"
     ]
    }
   ],
   "source": [
    "SAMPLE_RATE = 16000\n",
    "capuchin_clips_paths = list(CAPUCHIN_CLIPS_FOLDER.iterdir())\n",
    "clips = [torchaudio.load(pth) for pth in capuchin_clips_paths]\n",
    "resampled_clips = [\n",
    "    torchaudio.functional.resample(d[0], d[1], SAMPLE_RATE) for d in clips\n",
    "]\n",
    "capuchin_clip_lengths = [clip.shape[1] for clip in resampled_clips]\n",
    "print(f\"Maximum num of frames in capuchin clip {np.amax(capuchin_clip_lengths)}\")\n",
    "print(f\"Average num of frames in capuchin clip {np.mean(capuchin_clip_lengths)}\")\n",
    "print(f\"Minimum num of frames in capuchin clip {np.amin(capuchin_clip_lengths)}\")"
   ]
  },
  {
   "cell_type": "code",
   "execution_count": 8,
   "metadata": {},
   "outputs": [],
   "source": [
    "NUM_FRAMES = 48000"
   ]
  },
  {
   "cell_type": "markdown",
   "metadata": {},
   "source": [
    "## Creating Custom PyTorch Dataset"
   ]
  },
  {
   "cell_type": "code",
   "execution_count": 9,
   "metadata": {},
   "outputs": [],
   "source": [
    "class CapuchinBirdCallDataset(Dataset):\n",
    "    def __init__(\n",
    "        self,\n",
    "        positive_folder: Path,\n",
    "        negative_folder: Path,\n",
    "        sample_rate: int,\n",
    "        num_frames: int,\n",
    "    ) -> None:\n",
    "        super().__init__()\n",
    "        self.sample_rate = sample_rate\n",
    "        self.num_frames = num_frames\n",
    "        # load all clip paths into single sorted list\n",
    "        positive_clips = list(positive_folder.iterdir())\n",
    "        negative_clips = list(negative_folder.iterdir())\n",
    "        clips = [\n",
    "            (clip_path, torch.ones(1, dtype=torch.float32))\n",
    "            for clip_path in positive_clips\n",
    "        ]\n",
    "        clips.extend(\n",
    "            [\n",
    "                (clip_path, torch.zeros(1, dtype=torch.float32))\n",
    "                for clip_path in negative_clips\n",
    "            ]\n",
    "        )\n",
    "        clips.sort(key=lambda item: item[0])\n",
    "        self.clips = clips\n",
    "\n",
    "        self.gen_spectrogram = torchaudio.transforms.Spectrogram(\n",
    "            n_fft=64, hop_length=128\n",
    "        )\n",
    "\n",
    "        self.amplitude_to_db = torchaudio.transforms.AmplitudeToDB()\n",
    "\n",
    "    def load_mono_audio(self, clip_path: Path) -> torch.Tensor:\n",
    "        clip_waveform, clip_sample_rate = torchaudio.load(clip_path)\n",
    "        # only get the first channel\n",
    "        clip_waveform = clip_waveform[0, :].unsqueeze(0)\n",
    "        # resample the clip\n",
    "        resampled_clip = torchaudio.functional.resample(\n",
    "            clip_waveform, clip_sample_rate, self.sample_rate\n",
    "        )\n",
    "        resampled_clip = resampled_clip[:, : self.num_frames]\n",
    "        # pad the clip if necessary\n",
    "        if resampled_clip.shape[1] < self.num_frames:\n",
    "            zero_padding = torch.zeros((1, self.num_frames - resampled_clip.shape[1]))\n",
    "            resampled_clip = torch.concat((resampled_clip, zero_padding), dim=1)\n",
    "        return resampled_clip\n",
    "\n",
    "    def __len__(self) -> int:\n",
    "        return len(self.clips)\n",
    "\n",
    "    def __getitem__(self, index: int) -> tuple[torch.Tensor, int]:\n",
    "        clip_path, label = self.clips[index]\n",
    "        resampled_clip = self.load_mono_audio(clip_path)\n",
    "        spectrogram = self.amplitude_to_db(self.gen_spectrogram(resampled_clip))\n",
    "        # stack the spectrogram for rgb input\n",
    "        spectrogram = spectrogram.expand(3, -1, -1)\n",
    "        return spectrogram, label"
   ]
  },
  {
   "cell_type": "markdown",
   "metadata": {},
   "source": [
    "### Spectrogram Sample of Capuchin Bird"
   ]
  },
  {
   "cell_type": "code",
   "execution_count": 10,
   "metadata": {},
   "outputs": [],
   "source": [
    "capuchin_call_dataset = CapuchinBirdCallDataset(\n",
    "    CAPUCHIN_CLIPS_FOLDER, NOT_CAPUCHIN_CLIPS_FOLDER, SAMPLE_RATE, NUM_FRAMES\n",
    ")"
   ]
  },
  {
   "cell_type": "code",
   "execution_count": 11,
   "metadata": {},
   "outputs": [
    {
     "data": {
      "image/png": "[encoded data removed]",
      "text/plain": [
       "<Figure size 640x480 with 1 Axes>"
      ]
     },
     "metadata": {},
     "output_type": "display_data"
    }
   ],
   "source": [
    "sample = capuchin_call_dataset.__getitem__(3)\n",
    "plt.imshow(sample[0][0].squeeze().numpy())\n",
    "plt.show()"
   ]
  },
  {
   "cell_type": "markdown",
   "metadata": {},
   "source": [
    "## Creating train and test dataloaders"
   ]
  },
  {
   "cell_type": "code",
   "execution_count": 12,
   "metadata": {},
   "outputs": [],
   "source": [
    "train_test_split_generator = torch.Generator().manual_seed(42)\n",
    "train_dataset, test_dataset = torch.utils.data.random_split(\n",
    "    capuchin_call_dataset, [0.8, 0.2], generator=train_test_split_generator\n",
    ")"
   ]
  },
  {
   "cell_type": "code",
   "execution_count": 13,
   "metadata": {},
   "outputs": [
    {
     "data": {
      "text/plain": [
       "(21, 6)"
      ]
     },
     "execution_count": 13,
     "metadata": {},
     "output_type": "execute_result"
    }
   ],
   "source": [
    "train_dataloader = DataLoader(\n",
    "    dataset=train_dataset, batch_size=32, num_workers=WORKERS, shuffle=True\n",
    ")\n",
    "test_dataloader = DataLoader(\n",
    "    dataset=test_dataset, batch_size=32, num_workers=0, shuffle=True\n",
    ")\n",
    "len(train_dataloader), len(test_dataloader)"
   ]
  },
  {
   "cell_type": "code",
   "execution_count": 14,
   "metadata": {},
   "outputs": [
    {
     "data": {
      "text/plain": [
       "(torch.Size([32, 3, 33, 376]), torch.Size([32, 1]))"
      ]
     },
     "execution_count": 14,
     "metadata": {},
     "output_type": "execute_result"
    }
   ],
   "source": [
    "spectrogram_sample, label_sample = next(iter(train_dataloader))\n",
    "spectrogram_sample.shape, label_sample.shape"
   ]
  },
  {
   "cell_type": "code",
   "execution_count": 15,
   "metadata": {},
   "outputs": [],
   "source": [
    "input_shape = spectrogram_sample.shape"
   ]
  },
  {
   "cell_type": "markdown",
   "metadata": {},
   "source": [
    "## Creating the model"
   ]
  },
  {
   "cell_type": "code",
   "execution_count": 16,
   "metadata": {},
   "outputs": [],
   "source": [
    "weights = torchvision.models.EfficientNet_B0_Weights.DEFAULT\n",
    "model = torchvision.models.efficientnet_b0(weights=weights).to(device)"
   ]
  },
  {
   "cell_type": "markdown",
   "metadata": {},
   "source": [
    "### Freezing the base model and changing the classifier for our needs"
   ]
  },
  {
   "cell_type": "code",
   "execution_count": 17,
   "metadata": {},
   "outputs": [],
   "source": [
    "for param in model.features.parameters():\n",
    "    param.requires_grad = False"
   ]
  },
  {
   "cell_type": "code",
   "execution_count": 18,
   "metadata": {},
   "outputs": [],
   "source": [
    "output_shape = 1\n",
    "\n",
    "model.classifier = torch.nn.Sequential(\n",
    "    torch.nn.Dropout(p=0.2, inplace=True),\n",
    "    torch.nn.Linear(in_features=1280, out_features=500, bias=True),\n",
    "    torch.nn.ReLU(),\n",
    "    torch.nn.Linear(in_features=500, out_features=1, bias=True),\n",
    ").to(device)"
   ]
  },
  {
   "cell_type": "code",
   "execution_count": 19,
   "metadata": {},
   "outputs": [
    {
     "data": {
      "text/plain": [
       "============================================================================================================================================\n",
       "Layer (type (var_name))                                      Input Shape          Output Shape         Param #              Trainable\n",
       "============================================================================================================================================\n",
       "EfficientNet (EfficientNet)                                  [32, 3, 33, 376]     [32, 1]              --                   Partial\n",
       "├─Sequential (features)                                      [32, 3, 33, 376]     [32, 1280, 2, 12]    --                   False\n",
       "│    └─Conv2dNormActivation (0)                              [32, 3, 33, 376]     [32, 32, 17, 188]    --                   False\n",
       "│    │    └─Conv2d (0)                                       [32, 3, 33, 376]     [32, 32, 17, 188]    (864)                False\n",
       "│    │    └─BatchNorm2d (1)                                  [32, 32, 17, 188]    [32, 32, 17, 188]    (64)                 False\n",
       "│    │    └─SiLU (2)                                         [32, 32, 17, 188]    [32, 32, 17, 188]    --                   --\n",
       "│    └─Sequential (1)                                        [32, 32, 17, 188]    [32, 16, 17, 188]    --                   False\n",
       "│    │    └─MBConv (0)                                       [32, 32, 17, 188]    [32, 16, 17, 188]    (1,448)              False\n",
       "│    └─Sequential (2)                                        [32, 16, 17, 188]    [32, 24, 9, 94]      --                   False\n",
       "│    │    └─MBConv (0)                                       [32, 16, 17, 188]    [32, 24, 9, 94]      (6,004)              False\n",
       "│    │    └─MBConv (1)                                       [32, 24, 9, 94]      [32, 24, 9, 94]      (10,710)             False\n",
       "│    └─Sequential (3)                                        [32, 24, 9, 94]      [32, 40, 5, 47]      --                   False\n",
       "│    │    └─MBConv (0)                                       [32, 24, 9, 94]      [32, 40, 5, 47]      (15,350)             False\n",
       "│    │    └─MBConv (1)                                       [32, 40, 5, 47]      [32, 40, 5, 47]      (31,290)             False\n",
       "│    └─Sequential (4)                                        [32, 40, 5, 47]      [32, 80, 3, 24]      --                   False\n",
       "│    │    └─MBConv (0)                                       [32, 40, 5, 47]      [32, 80, 3, 24]      (37,130)             False\n",
       "│    │    └─MBConv (1)                                       [32, 80, 3, 24]      [32, 80, 3, 24]      (102,900)            False\n",
       "│    │    └─MBConv (2)                                       [32, 80, 3, 24]      [32, 80, 3, 24]      (102,900)            False\n",
       "│    └─Sequential (5)                                        [32, 80, 3, 24]      [32, 112, 3, 24]     --                   False\n",
       "│    │    └─MBConv (0)                                       [32, 80, 3, 24]      [32, 112, 3, 24]     (126,004)            False\n",
       "│    │    └─MBConv (1)                                       [32, 112, 3, 24]     [32, 112, 3, 24]     (208,572)            False\n",
       "│    │    └─MBConv (2)                                       [32, 112, 3, 24]     [32, 112, 3, 24]     (208,572)            False\n",
       "│    └─Sequential (6)                                        [32, 112, 3, 24]     [32, 192, 2, 12]     --                   False\n",
       "│    │    └─MBConv (0)                                       [32, 112, 3, 24]     [32, 192, 2, 12]     (262,492)            False\n",
       "│    │    └─MBConv (1)                                       [32, 192, 2, 12]     [32, 192, 2, 12]     (587,952)            False\n",
       "│    │    └─MBConv (2)                                       [32, 192, 2, 12]     [32, 192, 2, 12]     (587,952)            False\n",
       "│    │    └─MBConv (3)                                       [32, 192, 2, 12]     [32, 192, 2, 12]     (587,952)            False\n",
       "│    └─Sequential (7)                                        [32, 192, 2, 12]     [32, 320, 2, 12]     --                   False\n",
       "│    │    └─MBConv (0)                                       [32, 192, 2, 12]     [32, 320, 2, 12]     (717,232)            False\n",
       "│    └─Conv2dNormActivation (8)                              [32, 320, 2, 12]     [32, 1280, 2, 12]    --                   False\n",
       "│    │    └─Conv2d (0)                                       [32, 320, 2, 12]     [32, 1280, 2, 12]    (409,600)            False\n",
       "│    │    └─BatchNorm2d (1)                                  [32, 1280, 2, 12]    [32, 1280, 2, 12]    (2,560)              False\n",
       "│    │    └─SiLU (2)                                         [32, 1280, 2, 12]    [32, 1280, 2, 12]    --                   --\n",
       "├─AdaptiveAvgPool2d (avgpool)                                [32, 1280, 2, 12]    [32, 1280, 1, 1]     --                   --\n",
       "├─Sequential (classifier)                                    [32, 1280]           [32, 1]              --                   True\n",
       "│    └─Dropout (0)                                           [32, 1280]           [32, 1280]           --                   --\n",
       "│    └─Linear (1)                                            [32, 1280]           [32, 500]            640,500              True\n",
       "│    └─ReLU (2)                                              [32, 500]            [32, 500]            --                   --\n",
       "│    └─Linear (3)                                            [32, 500]            [32, 1]              501                  True\n",
       "============================================================================================================================================\n",
       "Total params: 4,648,549\n",
       "Trainable params: 641,001\n",
       "Non-trainable params: 4,007,548\n",
       "Total mult-adds (Units.GIGABYTES): 4.68\n",
       "============================================================================================================================================\n",
       "Input size (MB): 4.76\n",
       "Forward/backward pass size (MB): 1064.31\n",
       "Params size (MB): 18.59\n",
       "Estimated Total Size (MB): 1087.67\n",
       "============================================================================================================================================"
      ]
     },
     "execution_count": 19,
     "metadata": {},
     "output_type": "execute_result"
    }
   ],
   "source": [
    "summary(\n",
    "    model=model,\n",
    "    input_size=input_shape,\n",
    "    col_names=[\"input_size\", \"output_size\", \"num_params\", \"trainable\"],\n",
    "    col_width=20,\n",
    "    row_settings=[\"var_names\"],\n",
    ")"
   ]
  },
  {
   "cell_type": "markdown",
   "metadata": {},
   "source": [
    "## Training the model"
   ]
  },
  {
   "cell_type": "code",
   "execution_count": 20,
   "metadata": {},
   "outputs": [],
   "source": [
    "# Define loss and optimizer\n",
    "loss_fn = torch.nn.BCEWithLogitsLoss()\n",
    "optimizer = torch.optim.Adam(model.parameters(), lr=0.001)"
   ]
  },
  {
   "cell_type": "code",
   "execution_count": 21,
   "metadata": {},
   "outputs": [
    {
     "data": {
      "application/vnd.jupyter.widget-view+json": {
       "model_id": "55d52f902c6043a485cd0ff21b6e3758",
       "version_major": 2,
       "version_minor": 0
      },
      "text/plain": [
       "  0%|          | 0/21 [00:00<?, ?batch/s]"
      ]
     },
     "metadata": {},
     "output_type": "display_data"
    },
    {
     "name": "stdout",
     "output_type": "stream",
     "text": [
      "Epoch: 0 | Test loss: 0.4964410662651062\n"
     ]
    },
    {
     "data": {
      "application/vnd.jupyter.widget-view+json": {
       "model_id": "26c6cdcef45847b1947910a5e102357e",
       "version_major": 2,
       "version_minor": 0
      },
      "text/plain": [
       "  0%|          | 0/21 [00:00<?, ?batch/s]"
      ]
     },
     "metadata": {},
     "output_type": "display_data"
    },
    {
     "name": "stdout",
     "output_type": "stream",
     "text": [
      "Epoch: 1 | Test loss: 0.2002078890800476\n"
     ]
    },
    {
     "data": {
      "application/vnd.jupyter.widget-view+json": {
       "model_id": "31082ce3b1b54ed9b2dfefa194fc8273",
       "version_major": 2,
       "version_minor": 0
      },
      "text/plain": [
       "  0%|          | 0/21 [00:00<?, ?batch/s]"
      ]
     },
     "metadata": {},
     "output_type": "display_data"
    },
    {
     "name": "stdout",
     "output_type": "stream",
     "text": [
      "Epoch: 2 | Test loss: 0.15259897708892822\n"
     ]
    },
    {
     "data": {
      "application/vnd.jupyter.widget-view+json": {
       "model_id": "ba0c5886159a4d14a0455ab9b0dbd290",
       "version_major": 2,
       "version_minor": 0
      },
      "text/plain": [
       "  0%|          | 0/21 [00:00<?, ?batch/s]"
      ]
     },
     "metadata": {},
     "output_type": "display_data"
    }
   ],
   "source": [
    "torch.manual_seed(42)\n",
    "epochs = 20\n",
    "sigmoid_activation = torch.nn.Sigmoid()\n",
    "\n",
    "# Create training and testing loop\n",
    "for epoch in range(epochs + 1):\n",
    "    ### Training\n",
    "    train_loss = 0\n",
    "    # Add a loop to loop through training batches\n",
    "    with tqdm(train_dataloader, unit=\"batch\") as tepoch:\n",
    "        for X, y in tepoch:\n",
    "            tepoch.set_description(f\"Epoch {epoch}\")\n",
    "\n",
    "            X = X.to(device)\n",
    "            y = y.to(device)\n",
    "\n",
    "            model.train()\n",
    "\n",
    "            y_logits = model(X)\n",
    "            y_pred = torch.nn.Sigmoid()(y_logits)\n",
    "\n",
    "            loss = loss_fn(y_logits, y)\n",
    "            train_loss += loss\n",
    "\n",
    "            optimizer.zero_grad()\n",
    "\n",
    "            loss.backward()\n",
    "\n",
    "            optimizer.step()\n",
    "\n",
    "        train_loss /= len(train_dataloader)\n",
    "\n",
    "        ### Testing\n",
    "        test_loss, test_acc = 0, 0\n",
    "        model.eval()\n",
    "        with torch.inference_mode():\n",
    "            for X, y in test_dataloader:\n",
    "                X = X.to(device)\n",
    "                y = y.to(device)\n",
    "                test_pred = model(X)\n",
    "\n",
    "                test_loss += loss_fn(test_pred, y)\n",
    "\n",
    "            test_loss /= len(test_dataloader)\n",
    "        print(f\"Epoch: {epoch} | Test loss: {test_loss}\")"
   ]
  },
  {
   "cell_type": "markdown",
   "metadata": {},
   "source": [
    "## Evaluating the model"
   ]
  },
  {
   "cell_type": "code",
   "execution_count": null,
   "metadata": {},
   "outputs": [],
   "source": [
    "X_test, y_test = next(iter(test_dataloader))\n",
    "X_test, y_test = X_test.to(device), y_test.to(device)\n",
    "model.eval()\n",
    "with torch.inference_mode():\n",
    "    y_logits = model(X_test)\n",
    "    y_pred = torch.nn.Sigmoid()(y_logits)"
   ]
  },
  {
   "cell_type": "code",
   "execution_count": null,
   "metadata": {},
   "outputs": [
    {
     "data": {
      "image/png": "[encoded data removed]",
      "text/plain": [
       "<Figure size 640x480 with 1 Axes>"
      ]
     },
     "metadata": {},
     "output_type": "display_data"
    }
   ],
   "source": [
    "bcm = BinaryConfusionMatrix()\n",
    "bcm(y_pred.cpu(), y_test.cpu())\n",
    "bcm.plot()\n",
    "plt.title(\"Confusion Matrix for Classifier with EfficientNet B0\")\n",
    "plt.show()"
   ]
  }
 ],
 "metadata": {
  "kernelspec": {
   "display_name": "torch_env",
   "language": "python",
   "name": "python3"
  },
  "language_info": {
   "codemirror_mode": {
    "name": "ipython",
    "version": 3
   },
   "file_extension": ".py",
   "mimetype": "text/x-python",
   "name": "python",
   "nbconvert_exporter": "python",
   "pygments_lexer": "ipython3",
   "version": "3.12.4"
  }
 },
 "nbformat": 4,
 "nbformat_minor": 2
}
